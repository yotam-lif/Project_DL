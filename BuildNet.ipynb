{
 "cells": [
  {
   "cell_type": "code",
   "execution_count": 1,
   "id": "initial_id",
   "metadata": {
    "collapsed": true,
    "ExecuteTime": {
     "end_time": "2023-08-15T17:37:34.184948Z",
     "start_time": "2023-08-15T17:37:31.277010Z"
    }
   },
   "outputs": [],
   "source": [
    "from dataloader import TFDNA_ds\n",
    "import torch"
   ]
  },
  {
   "cell_type": "code",
   "execution_count": 1,
   "outputs": [],
   "source": [
    "%load_ext autoreload\n",
    "%autoreload 2"
   ],
   "metadata": {
    "collapsed": false,
    "ExecuteTime": {
     "end_time": "2023-08-15T17:35:17.157961Z",
     "start_time": "2023-08-15T17:35:17.129811Z"
    }
   },
   "id": "fdf64e27aa113c5c"
  },
  {
   "cell_type": "code",
   "execution_count": null,
   "outputs": [],
   "source": [
    "# @@@@@@@@ DNA PATH?!?!\n",
    "data = TFDNA_ds(TF_path='final_tf_data.h5', DNA_path='?')\n",
    "\n",
    "N_train = int(len(data)*0.9)\n",
    "\n",
    "training_dataset = torch.utils.data.Subset(data,range(N_train))\n",
    "validation_dataset = torch.utils.data.Subset(data,range(N_train,len(data)))"
   ],
   "metadata": {
    "collapsed": false
   },
   "id": "6ae0748aea9de76"
  },
  {
   "cell_type": "code",
   "execution_count": null,
   "outputs": [],
   "source": [
    "example, label = training_dataset[31]"
   ],
   "metadata": {
    "collapsed": false
   },
   "id": "c2dd7f595cf9d5c1"
  },
  {
   "cell_type": "code",
   "execution_count": null,
   "outputs": [],
   "source": [
    "example, label"
   ],
   "metadata": {
    "collapsed": false
   },
   "id": "b4b0922331ca8a29"
  },
  {
   "cell_type": "code",
   "execution_count": null,
   "outputs": [],
   "source": [
    "from torch.utils.data import Dataset, DataLoader\n",
    "\n",
    "batch_size = 100\n",
    "\n",
    "data_loader = DataLoader(training_dataset, batch_size=batch_size, shuffle=True)\n",
    "validation_data_loader = DataLoader(validation_dataset, batch_size=batch_size, shuffle=False)"
   ],
   "metadata": {
    "collapsed": false
   },
   "id": "2bea0a94175b07ca"
  },
  {
   "cell_type": "code",
   "execution_count": null,
   "outputs": [],
   "source": [
    "for batched_e, l in data_loader:\n",
    "    break"
   ],
   "metadata": {
    "collapsed": false
   },
   "id": "955d996a2dcf98fe"
  },
  {
   "cell_type": "code",
   "execution_count": null,
   "outputs": [],
   "source": [
    "batched_e, l"
   ],
   "metadata": {
    "collapsed": false
   },
   "id": "72c572030eaae110"
  },
  {
   "cell_type": "code",
   "execution_count": null,
   "outputs": [],
   "source": [
    "from model import EncoderNet"
   ],
   "metadata": {
    "collapsed": false
   },
   "id": "ea5cd5da9dd27e25"
  },
  {
   "cell_type": "code",
   "execution_count": null,
   "outputs": [],
   "source": [
    "n_layers = 6\n",
    "d_model = 50\n",
    "n_heads = 4\n",
    "dropout_enc = 0.1\n",
    "window_size = 300\n",
    "dropout_emb = True\n",
    "\n",
    "net = EncoderNet(n_layers=n_layers, d_model=d_model, n_heads=n_heads, dropout_enc=dropout_enc, window_size=window_size, dropout_emb=dropout_emb)"
   ],
   "metadata": {
    "collapsed": false
   },
   "id": "3fe0c36e3873df79"
  },
  {
   "cell_type": "code",
   "execution_count": null,
   "outputs": [],
   "source": [
    "net(batched_e).shape"
   ],
   "metadata": {
    "collapsed": false
   },
   "id": "9ef47bb7b7eadf5d"
  },
  {
   "cell_type": "code",
   "execution_count": null,
   "outputs": [],
   "source": [
    "device = torch.device('cpu')\n",
    "if torch.cuda.is_available():\n",
    "    device = torch.device('cuda:0')\n",
    "\n",
    "net.to(device)"
   ],
   "metadata": {
    "collapsed": false
   },
   "id": "d4e94c7eb1d1ce56"
  },
  {
   "cell_type": "code",
   "execution_count": null,
   "outputs": [],
   "source": [
    "import torch.nn as nn\n",
    "import torch.optim as optim\n",
    "\n",
    "# @@@@@@@@ WHAT LOSS FUNCTION?!?!?\n",
    "loss_func = nn.KLDivLoss()\n",
    "optimizer = optim.Adam(net.parameters(), lr=0.0005) "
   ],
   "metadata": {
    "collapsed": false
   },
   "id": "ef1b1b915f9bf8af"
  },
  {
   "cell_type": "code",
   "execution_count": null,
   "outputs": [],
   "source": [
    "def compute_accuracy_and_loss(dataloader, net):\n",
    "    total = 0\n",
    "    correct = 0\n",
    "    loss = 0\n",
    "    \n",
    "    if torch.cuda.is_available():\n",
    "        net.cuda()\n",
    "    net.eval()\n",
    "    \n",
    "    n_batches = 0\n",
    "    with torch.no_grad():\n",
    "        for batched_e, l in dataloader:\n",
    "            n_batches += 1\n",
    "\n",
    "            if torch.cuda.is_available():\n",
    "                batched_e = batched_e.to(torch.device('cuda'))\n",
    "                l = l.cuda()\n",
    "            pred = net(batched_e)         \n",
    "\n",
    "            loss += loss_func(pred, l).item()\n",
    "            #pred = torch.argmax(pred,dim=1)\n",
    "            #correct += len(torch.where(pred==l)[0])\n",
    "            #total += len(l)\n",
    "   \n",
    "    loss = loss / n_batches      \n",
    "    return loss"
   ],
   "metadata": {
    "collapsed": false
   },
   "id": "4c93a1de9531e5e5"
  },
  {
   "cell_type": "code",
   "execution_count": null,
   "outputs": [],
   "source": [
    "from tqdm.notebook import tqdm\n",
    "\n",
    "n_epochs = 5\n",
    "bestacc  = -999\n",
    "\n",
    "training_loss_vs_epoch = []\n",
    "validation_loss_vs_epoch = []\n",
    "\n",
    "training_acc_vs_epoch = []\n",
    "validation_acc_vs_epoch = []\n",
    "\n",
    "pbar = tqdm( range(n_epochs) )\n",
    "\n",
    "for epoch in pbar:\n",
    "    \n",
    "    if len(validation_loss_vs_epoch) > 1:\n",
    "        pbar.set_description('val acc:'+'{0:.5f}'.format(validation_acc_vs_epoch[-1])+', train acc:'+'{0:.5f}'.format(training_acc_vs_epoch[-1]))\n",
    "       \n",
    "    net.train() # put the net into \"training mode\"\n",
    "    for batched_e, l in data_loader:\n",
    "        if torch.cuda.is_available():\n",
    "            batched_g = batched_e.to(torch.device('cuda'))\n",
    "            l = l.cuda()\n",
    "            \n",
    "        optimizer.zero_grad()\n",
    "        pred = net(batched_e)\n",
    "        loss = loss_func(pred,l)\n",
    "        loss.backward()\n",
    "        optimizer.step()\n",
    "    \n",
    "    net.eval() #put the net into evaluation mode\n",
    "    train_acc, train_loss = compute_accuracy_and_loss(data_loader, net)\n",
    "    valid_acc, valid_loss =  compute_accuracy_and_loss(validation_data_loader, net)\n",
    "         \n",
    "    training_loss_vs_epoch.append(train_loss)    \n",
    "    training_acc_vs_epoch.append( train_acc )\n",
    "    \n",
    "    validation_acc_vs_epoch.append(valid_acc)\n",
    "    validation_loss_vs_epoch.append(valid_loss)\n",
    "\n",
    "    #keep model with best accuracy\n",
    "    if len(validation_loss_vs_epoch)==1 or validation_acc_vs_epoch[-1] > bestacc:\n",
    "        torch.save(net.state_dict(), 'trained_model.pt')\n",
    "        bestacc = validation_acc_vs_epoch[-1]"
   ],
   "metadata": {
    "collapsed": false
   },
   "id": "60701b005a06e56d"
  },
  {
   "cell_type": "code",
   "execution_count": null,
   "outputs": [],
   "source": [
    "print(bestacc)"
   ],
   "metadata": {
    "collapsed": false
   },
   "id": "fd280635db3de58a"
  },
  {
   "cell_type": "code",
   "execution_count": null,
   "outputs": [],
   "source": [
    "import matplotlib.pyplot as plt\n",
    "\n",
    "fig,ax = plt.subplots(1,2,figsize=(8,3))\n",
    "\n",
    "ax[0].plot(training_loss_vs_epoch,label='training')\n",
    "ax[0].plot(validation_loss_vs_epoch,label='validation')\n",
    "ax[0].set_title('Loss')\n",
    "ax[0].legend()\n",
    "\n",
    "ax[1].plot(training_acc_vs_epoch,label='training')\n",
    "ax[1].plot(validation_acc_vs_epoch,label='validation')\n",
    "ax[1].set_title('Accuracy')\n",
    "ax[1].legend()\n",
    "\n",
    "plt.show()"
   ],
   "metadata": {
    "collapsed": false
   },
   "id": "4dadd339d41c6590"
  }
 ],
 "metadata": {
  "kernelspec": {
   "display_name": "Python 3",
   "language": "python",
   "name": "python3"
  },
  "language_info": {
   "codemirror_mode": {
    "name": "ipython",
    "version": 2
   },
   "file_extension": ".py",
   "mimetype": "text/x-python",
   "name": "python",
   "nbconvert_exporter": "python",
   "pygments_lexer": "ipython2",
   "version": "2.7.6"
  }
 },
 "nbformat": 4,
 "nbformat_minor": 5
}
